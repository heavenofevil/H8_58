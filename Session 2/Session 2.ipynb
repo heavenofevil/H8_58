{
 "cells": [
  {
   "cell_type": "code",
   "execution_count": 1,
   "id": "0170614d",
   "metadata": {
    "scrolled": true
   },
   "outputs": [
    {
     "name": "stdout",
     "output_type": "stream",
     "text": [
      "Masukkan angka : 6\n",
      "genap\n"
     ]
    }
   ],
   "source": [
    "#Nomor 1\n",
    "angka = int(input(\"Masukkan angka : \"))\n",
    "\n",
    "if angka % 2 == 0:\n",
    "    print (\"genap\")\n",
    "else:\n",
    "    print (\"ganjil\")"
   ]
  },
  {
   "cell_type": "code",
   "execution_count": 21,
   "id": "593be0c2",
   "metadata": {},
   "outputs": [
    {
     "name": "stdout",
     "output_type": "stream",
     "text": [
      "masukkan nilai: 8\n",
      "1\n",
      "2\n",
      "4\n"
     ]
    }
   ],
   "source": [
    "x = int(input('masukkan nilai: '))\n",
    "y = 1\n",
    "\n",
    "while y < x:\n",
    "    if (x%y == 0):\n",
    "        print(y)\n",
    "    y = y+1"
   ]
  },
  {
   "cell_type": "code",
   "execution_count": 16,
   "id": "ad5e89f8",
   "metadata": {},
   "outputs": [
    {
     "name": "stdout",
     "output_type": "stream",
     "text": [
      "Masukkan Nilai: 79\n",
      "B+\n"
     ]
    }
   ],
   "source": [
    "#Nomor 3\n",
    "def hitungNilai(nilai):\n",
    "    if nilai >= 85:\n",
    "        print(\"A\")\n",
    "    elif nilai < 85 and nilai >=80:\n",
    "        print (\"A-\")\n",
    "    elif nilai < 80 and nilai >=75:\n",
    "        print (\"B+\")\n",
    "    elif nilai < 75 and nilai >=70:\n",
    "        print (\"B\")\n",
    "    elif nilai < 70 and nilai >=65:\n",
    "        print (\"B-\")\n",
    "    elif nilai < 65 and nilai >=60:\n",
    "        print (\"C+\")\n",
    "    elif nilai < 60 and nilai >=55:\n",
    "        print (\"C\")\n",
    "    elif nilai < 55:\n",
    "        print(\"0\")\n",
    "        \n",
    "nilai = int(input(\"Masukkan Nilai: \"))\n",
    "hitungNilai(nilai)"
   ]
  },
  {
   "cell_type": "code",
   "execution_count": null,
   "id": "7a770135",
   "metadata": {},
   "outputs": [],
   "source": [
    "#Nomor 4\n",
    "angka =int(input(\"Tebak angka\"))\n",
    "\n",
    "i = \n",
    "if i"
   ]
  },
  {
   "cell_type": "code",
   "execution_count": 20,
   "id": "77b7a9e0",
   "metadata": {},
   "outputs": [
    {
     "name": "stdout",
     "output_type": "stream",
     "text": [
      "corge\n",
      "grault\n"
     ]
    }
   ],
   "source": [
    "x = 3\n",
    "if x == 1:\n",
    "    print('foo')\n",
    "    print('bar')\n",
    "    print('baz')\n",
    "elif x == 2:\n",
    "    print('qux')\n",
    "    print('quux')\n",
    "else:\n",
    "    print('corge')\n",
    "    print('grault')"
   ]
  },
  {
   "cell_type": "code",
   "execution_count": null,
   "id": "ecc869a7",
   "metadata": {},
   "outputs": [],
   "source": []
  }
 ],
 "metadata": {
  "kernelspec": {
   "display_name": "Python 3",
   "language": "python",
   "name": "python3"
  },
  "language_info": {
   "codemirror_mode": {
    "name": "ipython",
    "version": 3
   },
   "file_extension": ".py",
   "mimetype": "text/x-python",
   "name": "python",
   "nbconvert_exporter": "python",
   "pygments_lexer": "ipython3",
   "version": "3.8.8"
  }
 },
 "nbformat": 4,
 "nbformat_minor": 5
}
